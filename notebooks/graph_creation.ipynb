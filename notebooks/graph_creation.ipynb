{
 "cells": [
  {
   "cell_type": "code",
   "execution_count": 13,
   "metadata": {},
   "outputs": [],
   "source": [
    "import matplotlib.pyplot as plt\n",
    "import numpy as np\n",
    "from numpy import array, ndarray, uint8, zeros\n",
    "import plotly.graph_objects as go\n",
    "from os.path import join\n",
    "from os import makedirs\n",
    "def create_train_val_graphs(losses: dict, experiment_path):\n",
    " \n",
    "    fig = go.Figure()\n",
    "\n",
    "    fig.add_trace(\n",
    "        go.Scatter(\n",
    "            x=[i for i in range(len(losses[\"train_losses\"][:300]))],\n",
    "            y=losses[\"train_losses\"][:300],\n",
    "            mode=\"lines\",\n",
    "            name=\"train loss\",\n",
    "        )\n",
    "    )\n",
    "    fig.add_trace(\n",
    "        go.Scatter(\n",
    "            x=[i for i in range(len(losses[\"val_losses\"][:300]))],\n",
    "            y=losses[\"val_losses\"][:300],\n",
    "            mode=\"lines\",\n",
    "            name=\"validation loss\",\n",
    "        )\n",
    "    )\n",
    "\n",
    "    fig.update_layout(xaxis_title=\"Epoch\", yaxis_title=\"Loss\")\n",
    "    fig.write_image(join(experiment_path, \"train_val_loss_history.png\"))\n",
    "\n",
    "\n",
    "\n",
    "    fig = go.Figure()\n",
    "\n",
    "    names = [\"background\", \"wall\", \"plaque\", \"lumen\"]\n",
    "    for class_n in range(4):\n",
    "                class_values = [inner_list[class_n] for inner_list in losses[\"val_ious_classes\"][:300]]\n",
    "                fig.add_trace(\n",
    "                    go.Scatter(\n",
    "                        x=[i for i in range(len(class_values))],\n",
    "                        y=class_values,\n",
    "                        mode=\"lines\",\n",
    "                        name=f'validation IoU for {names[class_n]} class',\n",
    "                    )\n",
    "                )\n",
    "        \n",
    "    fig.update_layout(xaxis_title=\"Epoch\", yaxis_title=\"IoU\")\n",
    "    fig.write_image(join(experiment_path, f\"IoU_history.png\"))\n",
    "    \n",
    "\n",
    "\n"
   ]
  },
  {
   "cell_type": "code",
   "execution_count": 15,
   "metadata": {},
   "outputs": [],
   "source": [
    "import json\n",
    "from os import makedirs\n",
    "# Read JSON data from a file\n",
    "    data_dict = json.load(json_file)\n",
    "# Parse the JSON data into a dictionary\n",
    "exp_path = \"GRAPHS/DYNAMIC/ACNN\"\n",
    "makedirs(exp_path,exist_ok=True)\n",
    "create_train_val_graphs(data_dict, exp_path)"
   ]
  }
 ],
 "metadata": {
  "kernelspec": {
   "display_name": "dp",
   "language": "python",
   "name": "python3"
  },
  "language_info": {
   "codemirror_mode": {
    "name": "ipython",
    "version": 3
   },
   "file_extension": ".py",
   "mimetype": "text/x-python",
   "name": "python",
   "nbconvert_exporter": "python",
   "pygments_lexer": "ipython3",
   "version": "3.11.5"
  }
 },
 "nbformat": 4,
 "nbformat_minor": 2
}
